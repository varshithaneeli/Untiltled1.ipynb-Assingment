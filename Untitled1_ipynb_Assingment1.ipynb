{
  "nbformat": 4,
  "nbformat_minor": 0,
  "metadata": {
    "colab": {
      "provenance": []
    },
    "kernelspec": {
      "name": "python3",
      "display_name": "Python 3"
    },
    "language_info": {
      "name": "python"
    }
  },
  "cells": [
    {
      "cell_type": "markdown",
      "source": [],
      "metadata": {
        "id": "HHwRF-AX0bDW"
      }
    },
    {
      "cell_type": "markdown",
      "source": [],
      "metadata": {
        "id": "xlJnUq3YR_R_"
      }
    },
    {
      "cell_type": "markdown",
      "source": [],
      "metadata": {
        "id": "z4Rm9FxPtn47"
      }
    },
    {
      "cell_type": "markdown",
      "source": [
        "        \"Phython basic questions\"\n",
        "\n",
        "         Qus1:What is Python , and Why is it popular?\n",
        "         Ans: Python is a programming language which is easy to understand and to write, it is the popular choice of the programmers and developers. Python having the extensive library it is more active in the community. it is very compatible in various paradigms, such as procedural , object orientied and functional programming.\n",
        "\n",
        "\n",
        "         Qus2: What is an interpreter in python?\n",
        "         Ans:  it is a program that directly executes instructions written in a programming or scripting language , without the need of prior compilation into machine code .\n",
        "         It translets the code line by line .\n",
        "\n",
        "         Qus3: What are the Pre-defined keywords ?\n",
        "         ans : Keywords are the reserved words in phython with  very important meaning and they cannot be identifers (variables name , functions names...)\n",
        "\n",
        "         Examples of keywords like if, else, none, elif, True, Flase, def , etc .. are the keywords\n",
        "\n",
        "         These are the case senstive cannot be redefined or overridden in python .\n",
        "\n",
        "\n",
        "         Qus4: Can keyswords be used as variable names?\n",
        "         Ans:  No , the cannot be used as variables because the keywords are pre-defined words and they create the syntax for variables if the keywords are used as the variable then the code will be error.\n",
        "\n",
        "\n",
        "         Qus5: What is Mutability in python ?\n",
        "         Ans :  In python the objects are changeable and some are unchangeable .\n",
        "         mutable objects are a lists or dictioners , that can be changeable or modified after the creation .\n",
        "         Mutability affects how the objects are stored and manipulated in memory , impacting performance , memory usage in python programs .\n",
        "\n",
        "\n",
        "         Qus6: why are lists are Mutables , but tuples are immutables ?\n",
        "         ans: Because the Lists are changeable or modifed and after the creation they are recreated . The tuples and strings  are immutable these are not recreated they are unchangeable .\n",
        "\n",
        "\n",
        "         Qus7:What is the difference between the \"==\" and \"is\" operator in python?\n",
        "         ans: \"==\" is the Comparition operator it show the variables are same are not  4 == 4 , it shows the code True , where\n",
        "          4 == 3 the code generates False.\n",
        "           \n",
        "          \"is \" is the identity operator which identifies the a is b ,\n",
        "          a = 2\n",
        "          b = 4\n",
        "          it generates the False ,\n",
        "          a = 2\n",
        "          b = a\n",
        "          it generates the True.\n",
        "\n",
        "\n",
        "          Qus8 : What are the logical operators in python ?\n",
        "          ans :  Logical operators are the \"and,or \"\n",
        "          in which 1. True and True\n",
        "                   True\n",
        "                   2.True and False\n",
        "                   False\n",
        "                   3. False and True\n",
        "                   false\n",
        "                   4. False and False\n",
        "                   False\n",
        "\n",
        "                    while the \"or\"\n",
        "                     \n",
        "                     1 . True or True\n",
        "                     True\n",
        "                     2. True or false\n",
        "                     True\n",
        "                     3. False or True\n",
        "                     True\n",
        "                     4. False or false\n",
        "                     False.\n",
        "\n",
        "\n",
        "\n",
        "            Qus9:what is type Casting  in python ?\n",
        "            Ans: Typecasting is reffered to type conversion , the type casting is the processes of changing the one data type to another in python .\n",
        "\n",
        "            Python provides built in functions for the type casting like str(),float(),int(), list(),tuples().\n",
        "\n",
        "            Type casting is offen used in the Data manipulation, arthimetic operations and in the input/output operations in the python.\n",
        "\n",
        "            Qus10: What is the difference between the implict and explicttype casting ?\n",
        "            Ans: Implict is the type casting it understands the data type .\n",
        "            Explict is the type casting which convert to in built\n",
        "            it identifies is the code is int , float ,..etc.\n",
        "\n",
        "\n",
        "            Qus11:What is the purpose of conditional statments in python?\n",
        "            ans: Conditionals  in the python are used to excecute based on the eveloution of one or more conditions. Phython supports to excecutes  conditional statements such as\n",
        "             1. if\n",
        "             2. if else\n",
        "             3. if elif (elseif)else\n",
        "             to control the flow of excecution\n",
        "             Conditionals can be nested to handle multiple conditons and controls different branches of excecution based on the logical expression.\n",
        "\n",
        "\n",
        "             Qus12:How does the elif statement work?\n",
        "             Ans: Elif statement works if we are not satisified with one or two conditions we can give some more condtions .\n",
        "\n",
        "\n",
        "             Qus13:What is the difference between for and while loops?\n",
        "             Ans: The for loop is that which iterates over a sequence of elements .\n",
        "\n",
        "             while the while loop it repeatedly executed a block of code untill a condition is met.\n",
        "\n",
        "             Qus 14: Describe a scenario where a while loop is more suitable than a for loop?\n",
        "             Ans: A while loop is more suitable than a for loop in situations where the number of iterations is not known in advance, and the loop should continue changes rather than counting through a fixed range .\n",
        "\n",
        "             scenario :      \n",
        "\n",
        "          suppose you need to keep prompting  a user for a vaild password until they enter one that meets certain criteria (eg. lenght , special charaters )\n",
        "          Since you dont know how many times the user will need to enter their password before its vaild , a while loop is ideal\n",
        "\n",
        "\n",
        "            \n",
        "\n",
        "\n"
      ],
      "metadata": {
        "id": "_FxqLTTFATjm"
      }
    },
    {
      "cell_type": "markdown",
      "source": [],
      "metadata": {
        "id": "OvnqGniD0v1y"
      }
    },
    {
      "cell_type": "markdown",
      "source": [],
      "metadata": {
        "id": "xwHXmN-kcc-4"
      }
    },
    {
      "cell_type": "code",
      "source": [
        "Practical Questions"
      ],
      "metadata": {
        "id": "Hat7S6ApOgH7"
      },
      "execution_count": null,
      "outputs": []
    },
    {
      "cell_type": "code",
      "source": [
        "Qus1: Write a python program to print \"Hello,World \""
      ],
      "metadata": {
        "id": "p3J3w_mjFp_B"
      },
      "execution_count": null,
      "outputs": []
    },
    {
      "cell_type": "code",
      "source": [
        "print(\"Hello world\")"
      ],
      "metadata": {
        "colab": {
          "base_uri": "https://localhost:8080/"
        },
        "id": "QEFKfyXlFqPV",
        "outputId": "aacd07de-517d-4b68-a06a-42a7e879eef5"
      },
      "execution_count": null,
      "outputs": [
        {
          "output_type": "stream",
          "name": "stdout",
          "text": [
            "Hello world\n"
          ]
        }
      ]
    },
    {
      "cell_type": "code",
      "source": [
        "qus2 :Write a python program that displays your name and age"
      ],
      "metadata": {
        "id": "2ibw31QXGlx8"
      },
      "execution_count": null,
      "outputs": []
    },
    {
      "cell_type": "code",
      "source": [
        "a = input(\"enter a is name,age\")\n",
        "print(\"the a name, age\")\n"
      ],
      "metadata": {
        "colab": {
          "base_uri": "https://localhost:8080/"
        },
        "id": "_NmeC4ioJ_aY",
        "outputId": "1282ec63-5354-42ab-ff46-b20a977f093e"
      },
      "execution_count": null,
      "outputs": [
        {
          "output_type": "stream",
          "name": "stdout",
          "text": [
            "enter a is name,ageVarshithaneeli,20\n",
            "the a name, age\n"
          ]
        }
      ]
    },
    {
      "cell_type": "code",
      "source": [
        "Qus3: Write code to print all the pre-defined keywords in python using the keyword library"
      ],
      "metadata": {
        "id": "_n5BcqwjMgIW"
      },
      "execution_count": null,
      "outputs": []
    },
    {
      "cell_type": "code",
      "source": [
        "a = 2\n",
        "a"
      ],
      "metadata": {
        "id": "uNw7axG2OHIX",
        "colab": {
          "base_uri": "https://localhost:8080/"
        },
        "outputId": "036473fc-017e-41e4-a323-5927287d7ad7"
      },
      "execution_count": null,
      "outputs": [
        {
          "output_type": "execute_result",
          "data": {
            "text/plain": [
              "2"
            ]
          },
          "metadata": {},
          "execution_count": 1
        }
      ]
    },
    {
      "cell_type": "code",
      "source": [
        "type(a)"
      ],
      "metadata": {
        "colab": {
          "base_uri": "https://localhost:8080/"
        },
        "id": "6zh3qgy-uskL",
        "outputId": "d8f531a5-83dd-4e92-c52a-1faea3c01ac7"
      },
      "execution_count": null,
      "outputs": [
        {
          "output_type": "execute_result",
          "data": {
            "text/plain": [
              "int"
            ]
          },
          "metadata": {},
          "execution_count": 8
        }
      ]
    },
    {
      "cell_type": "markdown",
      "source": [],
      "metadata": {
        "id": "GKHBD270Og4V"
      }
    },
    {
      "cell_type": "code",
      "source": [
        "b = 3.5\n",
        "b\n"
      ],
      "metadata": {
        "colab": {
          "base_uri": "https://localhost:8080/"
        },
        "id": "jxqNhHX_uc2y",
        "outputId": "ee9e5547-f834-4a04-a0b1-89152a3bdf84"
      },
      "execution_count": null,
      "outputs": [
        {
          "output_type": "execute_result",
          "data": {
            "text/plain": [
              "3.5"
            ]
          },
          "metadata": {},
          "execution_count": 6
        }
      ]
    },
    {
      "cell_type": "code",
      "source": [
        "type(b)"
      ],
      "metadata": {
        "colab": {
          "base_uri": "https://localhost:8080/"
        },
        "id": "HH9xmTAIuh0t",
        "outputId": "147a3342-9bdc-4654-e106-a61047419e3e"
      },
      "execution_count": null,
      "outputs": [
        {
          "output_type": "execute_result",
          "data": {
            "text/plain": [
              "float"
            ]
          },
          "metadata": {},
          "execution_count": 7
        }
      ]
    },
    {
      "cell_type": "code",
      "source": [
        "True - False"
      ],
      "metadata": {
        "colab": {
          "base_uri": "https://localhost:8080/"
        },
        "id": "i2TsU-9zuwgn",
        "outputId": "5642f316-9605-4232-98a8-b48c9cb417a8"
      },
      "execution_count": null,
      "outputs": [
        {
          "output_type": "execute_result",
          "data": {
            "text/plain": [
              "1"
            ]
          },
          "metadata": {},
          "execution_count": 9
        }
      ]
    },
    {
      "cell_type": "code",
      "source": [
        "type (1)"
      ],
      "metadata": {
        "colab": {
          "base_uri": "https://localhost:8080/"
        },
        "id": "eICkjGKnu4RL",
        "outputId": "981e91e0-e7dd-4708-f89f-e7ef84cbc229"
      },
      "execution_count": null,
      "outputs": [
        {
          "output_type": "execute_result",
          "data": {
            "text/plain": [
              "int"
            ]
          },
          "metadata": {},
          "execution_count": 10
        }
      ]
    },
    {
      "cell_type": "code",
      "source": [
        "c = True\n",
        "type(c)"
      ],
      "metadata": {
        "colab": {
          "base_uri": "https://localhost:8080/"
        },
        "id": "f6-EtfLeu4Uj",
        "outputId": "b7ec030c-0969-4ca2-f69c-b76b1994d840"
      },
      "execution_count": null,
      "outputs": [
        {
          "output_type": "execute_result",
          "data": {
            "text/plain": [
              "bool"
            ]
          },
          "metadata": {},
          "execution_count": 11
        }
      ]
    },
    {
      "cell_type": "code",
      "source": [
        "a = \"varshitha\"\n",
        "a"
      ],
      "metadata": {
        "colab": {
          "base_uri": "https://localhost:8080/",
          "height": 35
        },
        "id": "LLew7tRBu4gR",
        "outputId": "23c1461f-425c-48ce-a8eb-ff67eb288145"
      },
      "execution_count": null,
      "outputs": [
        {
          "output_type": "execute_result",
          "data": {
            "text/plain": [
              "'varshitha'"
            ],
            "application/vnd.google.colaboratory.intrinsic+json": {
              "type": "string"
            }
          },
          "metadata": {},
          "execution_count": 12
        }
      ]
    },
    {
      "cell_type": "code",
      "source": [
        "type (a)"
      ],
      "metadata": {
        "colab": {
          "base_uri": "https://localhost:8080/"
        },
        "id": "dBbKG_DIvLWk",
        "outputId": "dbae613d-3d59-45aa-d9ac-4851508f01f9"
      },
      "execution_count": null,
      "outputs": [
        {
          "output_type": "execute_result",
          "data": {
            "text/plain": [
              "str"
            ]
          },
          "metadata": {},
          "execution_count": 13
        }
      ]
    },
    {
      "cell_type": "code",
      "source": [
        "True + False"
      ],
      "metadata": {
        "colab": {
          "base_uri": "https://localhost:8080/"
        },
        "id": "_zQ-C0uFvLm8",
        "outputId": "e01c2987-94ae-45ed-d155-b9534c4af304"
      },
      "execution_count": null,
      "outputs": [
        {
          "output_type": "execute_result",
          "data": {
            "text/plain": [
              "1"
            ]
          },
          "metadata": {},
          "execution_count": 14
        }
      ]
    },
    {
      "cell_type": "code",
      "source": [
        "a = 180\n",
        "type (a)"
      ],
      "metadata": {
        "colab": {
          "base_uri": "https://localhost:8080/"
        },
        "id": "eIw_OAL8yO-w",
        "outputId": "8e984c16-9ab6-4bbf-aa50-a6020ee223ca"
      },
      "execution_count": null,
      "outputs": [
        {
          "output_type": "execute_result",
          "data": {
            "text/plain": [
              "int"
            ]
          },
          "metadata": {},
          "execution_count": 15
        }
      ]
    },
    {
      "cell_type": "code",
      "source": [
        "str(a)"
      ],
      "metadata": {
        "colab": {
          "base_uri": "https://localhost:8080/",
          "height": 35
        },
        "id": "VdAJyoaayPMt",
        "outputId": "e1894f12-824e-499f-f1d9-67ba1cd146a1"
      },
      "execution_count": null,
      "outputs": [
        {
          "output_type": "execute_result",
          "data": {
            "text/plain": [
              "'180'"
            ],
            "application/vnd.google.colaboratory.intrinsic+json": {
              "type": "string"
            }
          },
          "metadata": {},
          "execution_count": 16
        }
      ]
    },
    {
      "cell_type": "code",
      "source": [
        "bool(a)"
      ],
      "metadata": {
        "colab": {
          "base_uri": "https://localhost:8080/"
        },
        "id": "7TNcEXY5yX_L",
        "outputId": "3eb83a64-7e0e-4335-faad-d72710d875b6"
      },
      "execution_count": null,
      "outputs": [
        {
          "output_type": "execute_result",
          "data": {
            "text/plain": [
              "True"
            ]
          },
          "metadata": {},
          "execution_count": 17
        }
      ]
    },
    {
      "cell_type": "code",
      "source": [
        "float(a)"
      ],
      "metadata": {
        "colab": {
          "base_uri": "https://localhost:8080/"
        },
        "id": "vEyTYNCGyYLg",
        "outputId": "8bd377c4-efc7-4f12-e5f0-7f964fea077b"
      },
      "execution_count": null,
      "outputs": [
        {
          "output_type": "execute_result",
          "data": {
            "text/plain": [
              "180.0"
            ]
          },
          "metadata": {},
          "execution_count": 18
        }
      ]
    },
    {
      "cell_type": "code",
      "source": [
        "Qus4 :Write  a program that checks if a given word is a Python Keyword."
      ],
      "metadata": {
        "id": "kVEqCOXmvWMP"
      },
      "execution_count": null,
      "outputs": []
    },
    {
      "cell_type": "code",
      "source": [
        "if 3>5:\n",
        "  print(greater)"
      ],
      "metadata": {
        "id": "hkEwGFeRvWPL"
      },
      "execution_count": null,
      "outputs": []
    },
    {
      "cell_type": "code",
      "source": [
        "Qus6:write a function to demonstrate the behaviour of mutable and immutable arugments"
      ],
      "metadata": {
        "id": "_iZ_jGj6vWSg"
      },
      "execution_count": null,
      "outputs": []
    },
    {
      "cell_type": "code",
      "source": [
        "list_Cont = [1,5,8,6,\"Apple\"]\n",
        "list_Cont"
      ],
      "metadata": {
        "id": "M6cUCcNJvWVS",
        "colab": {
          "base_uri": "https://localhost:8080/"
        },
        "outputId": "ea3f2665-2e05-4a53-b1c8-9aa2a6784d9a"
      },
      "execution_count": null,
      "outputs": [
        {
          "output_type": "execute_result",
          "data": {
            "text/plain": [
              "[1, 5, 8, 6, 'Apple']"
            ]
          },
          "metadata": {},
          "execution_count": 2
        }
      ]
    },
    {
      "cell_type": "code",
      "source": [
        "list_Cont [1]"
      ],
      "metadata": {
        "id": "_x_X6vI_vWYz",
        "colab": {
          "base_uri": "https://localhost:8080/"
        },
        "outputId": "e8d2d481-130a-4f17-804f-f2e1dcbb6b06"
      },
      "execution_count": null,
      "outputs": [
        {
          "output_type": "execute_result",
          "data": {
            "text/plain": [
              "5"
            ]
          },
          "metadata": {},
          "execution_count": 5
        }
      ]
    },
    {
      "cell_type": "code",
      "source": [
        "list_Cont[1] = 3\n",
        "list_Cont"
      ],
      "metadata": {
        "colab": {
          "base_uri": "https://localhost:8080/"
        },
        "id": "ciRgfBkP2L-5",
        "outputId": "5c9f4a9c-c2e0-420a-ad3c-2f48f34cbb61"
      },
      "execution_count": null,
      "outputs": [
        {
          "output_type": "execute_result",
          "data": {
            "text/plain": [
              "[1, 3, 8, 6, 'Apple']"
            ]
          },
          "metadata": {},
          "execution_count": 8
        }
      ]
    },
    {
      "cell_type": "code",
      "source": [
        "these are the mutables like List"
      ],
      "metadata": {
        "id": "58LKV4HC2MBq"
      },
      "execution_count": null,
      "outputs": []
    },
    {
      "cell_type": "code",
      "source": [
        "a = \"Data Science\"\n",
        "a"
      ],
      "metadata": {
        "colab": {
          "base_uri": "https://localhost:8080/",
          "height": 35
        },
        "id": "UN9THipI2MD1",
        "outputId": "8d14fd85-898c-4f77-8f21-ce447c8b1d10"
      },
      "execution_count": null,
      "outputs": [
        {
          "output_type": "execute_result",
          "data": {
            "text/plain": [
              "'Data Science'"
            ],
            "application/vnd.google.colaboratory.intrinsic+json": {
              "type": "string"
            }
          },
          "metadata": {},
          "execution_count": 9
        }
      ]
    },
    {
      "cell_type": "code",
      "source": [
        "a [1] = \"\""
      ],
      "metadata": {
        "colab": {
          "base_uri": "https://localhost:8080/",
          "height": 141
        },
        "id": "2IvjXY076PgP",
        "outputId": "91d61809-bc7d-4917-a115-be148095b817"
      },
      "execution_count": null,
      "outputs": [
        {
          "output_type": "error",
          "ename": "TypeError",
          "evalue": "'int' object does not support item assignment",
          "traceback": [
            "\u001b[0;31m---------------------------------------------------------------------------\u001b[0m",
            "\u001b[0;31mTypeError\u001b[0m                                 Traceback (most recent call last)",
            "\u001b[0;32m/tmp/ipython-input-22-1315163751.py\u001b[0m in \u001b[0;36m<cell line: 0>\u001b[0;34m()\u001b[0m\n\u001b[0;32m----> 1\u001b[0;31m \u001b[0ma\u001b[0m \u001b[0;34m[\u001b[0m\u001b[0;36m1\u001b[0m\u001b[0;34m]\u001b[0m \u001b[0;34m=\u001b[0m \u001b[0;34m\"\"\u001b[0m\u001b[0;34m\u001b[0m\u001b[0;34m\u001b[0m\u001b[0m\n\u001b[0m",
            "\u001b[0;31mTypeError\u001b[0m: 'int' object does not support item assignment"
          ]
        }
      ]
    },
    {
      "cell_type": "code",
      "source": [
        "a [1] = \"s\""
      ],
      "metadata": {
        "colab": {
          "base_uri": "https://localhost:8080/",
          "height": 141
        },
        "id": "nFNuTlkH6kBg",
        "outputId": "5686e2c6-d199-4527-a525-1ea0e8298885"
      },
      "execution_count": null,
      "outputs": [
        {
          "output_type": "error",
          "ename": "TypeError",
          "evalue": "'int' object does not support item assignment",
          "traceback": [
            "\u001b[0;31m---------------------------------------------------------------------------\u001b[0m",
            "\u001b[0;31mTypeError\u001b[0m                                 Traceback (most recent call last)",
            "\u001b[0;32m/tmp/ipython-input-23-4215269374.py\u001b[0m in \u001b[0;36m<cell line: 0>\u001b[0;34m()\u001b[0m\n\u001b[0;32m----> 1\u001b[0;31m \u001b[0ma\u001b[0m \u001b[0;34m[\u001b[0m\u001b[0;36m1\u001b[0m\u001b[0;34m]\u001b[0m \u001b[0;34m=\u001b[0m \u001b[0;34m\"s\"\u001b[0m\u001b[0;34m\u001b[0m\u001b[0;34m\u001b[0m\u001b[0m\n\u001b[0m",
            "\u001b[0;31mTypeError\u001b[0m: 'int' object does not support item assignment"
          ]
        }
      ]
    },
    {
      "cell_type": "code",
      "source": [
        "Qus7: Write a program that performs basic arithmetic operation on two user - input numbers."
      ],
      "metadata": {
        "id": "XS-Ei6Fp61gu"
      },
      "execution_count": null,
      "outputs": []
    },
    {
      "cell_type": "code",
      "source": [
        "a = 2\n",
        "b = 4\n",
        "a+b"
      ],
      "metadata": {
        "colab": {
          "base_uri": "https://localhost:8080/"
        },
        "id": "-qtFzsFr61j5",
        "outputId": "43753452-edfd-48c8-b335-8244ec06297c"
      },
      "execution_count": null,
      "outputs": [
        {
          "output_type": "execute_result",
          "data": {
            "text/plain": [
              "6"
            ]
          },
          "metadata": {},
          "execution_count": 25
        }
      ]
    },
    {
      "cell_type": "code",
      "source": [
        "add = a+b\n",
        "add"
      ],
      "metadata": {
        "colab": {
          "base_uri": "https://localhost:8080/"
        },
        "id": "hYXMdKya61nT",
        "outputId": "ff206482-5e2f-4bed-aa3b-60da6ea1652f"
      },
      "execution_count": null,
      "outputs": [
        {
          "output_type": "execute_result",
          "data": {
            "text/plain": [
              "6"
            ]
          },
          "metadata": {},
          "execution_count": 26
        }
      ]
    },
    {
      "cell_type": "code",
      "source": [
        "3 - 6"
      ],
      "metadata": {
        "colab": {
          "base_uri": "https://localhost:8080/"
        },
        "id": "Ouxq4DAe61yL",
        "outputId": "edd75a77-6966-4944-cf32-174a7cbc4e2f"
      },
      "execution_count": null,
      "outputs": [
        {
          "output_type": "execute_result",
          "data": {
            "text/plain": [
              "-3"
            ]
          },
          "metadata": {},
          "execution_count": 27
        }
      ]
    },
    {
      "cell_type": "code",
      "source": [
        "3 ** 2"
      ],
      "metadata": {
        "colab": {
          "base_uri": "https://localhost:8080/"
        },
        "id": "3FyYoreN9LjE",
        "outputId": "6d9416e2-cb39-4f37-e013-f0389505bafb"
      },
      "execution_count": null,
      "outputs": [
        {
          "output_type": "execute_result",
          "data": {
            "text/plain": [
              "9"
            ]
          },
          "metadata": {},
          "execution_count": 28
        }
      ]
    },
    {
      "cell_type": "code",
      "source": [
        "25 / 5"
      ],
      "metadata": {
        "colab": {
          "base_uri": "https://localhost:8080/"
        },
        "id": "EeZgvRvV9Llq",
        "outputId": "e48ea529-a232-4fe1-f6ec-57b2451631d0"
      },
      "execution_count": null,
      "outputs": [
        {
          "output_type": "execute_result",
          "data": {
            "text/plain": [
              "5.0"
            ]
          },
          "metadata": {},
          "execution_count": 29
        }
      ]
    },
    {
      "cell_type": "code",
      "source": [
        "25 % 5"
      ],
      "metadata": {
        "colab": {
          "base_uri": "https://localhost:8080/"
        },
        "id": "2a5J-9v49VSF",
        "outputId": "6a3f6abc-a96e-4455-ee17-e2cfd444c35a"
      },
      "execution_count": null,
      "outputs": [
        {
          "output_type": "execute_result",
          "data": {
            "text/plain": [
              "0"
            ]
          },
          "metadata": {},
          "execution_count": 30
        }
      ]
    },
    {
      "cell_type": "code",
      "source": [
        "qus8:write a programm that demonstrate  the use of logical operators"
      ],
      "metadata": {
        "id": "giqYN4sQ9VVN"
      },
      "execution_count": null,
      "outputs": []
    },
    {
      "cell_type": "code",
      "source": [
        " True and True"
      ],
      "metadata": {
        "colab": {
          "base_uri": "https://localhost:8080/"
        },
        "id": "pPv0wIY-9VYt",
        "outputId": "fa678493-1a2c-4047-a6c2-2079597a1d96"
      },
      "execution_count": null,
      "outputs": [
        {
          "output_type": "execute_result",
          "data": {
            "text/plain": [
              "True"
            ]
          },
          "metadata": {},
          "execution_count": 31
        }
      ]
    },
    {
      "cell_type": "code",
      "source": [
        "True and False"
      ],
      "metadata": {
        "colab": {
          "base_uri": "https://localhost:8080/"
        },
        "id": "Hn9Rf7V59LpI",
        "outputId": "14047b17-9da5-4c25-b89d-db1bfa636b81"
      },
      "execution_count": null,
      "outputs": [
        {
          "output_type": "execute_result",
          "data": {
            "text/plain": [
              "False"
            ]
          },
          "metadata": {},
          "execution_count": 34
        }
      ]
    },
    {
      "cell_type": "code",
      "source": [
        "False and False"
      ],
      "metadata": {
        "colab": {
          "base_uri": "https://localhost:8080/"
        },
        "id": "9eEvLx-z_qj-",
        "outputId": "c6d33c6e-7c19-4409-f2d7-b473c6282b25"
      },
      "execution_count": null,
      "outputs": [
        {
          "output_type": "execute_result",
          "data": {
            "text/plain": [
              "False"
            ]
          },
          "metadata": {},
          "execution_count": 35
        }
      ]
    },
    {
      "cell_type": "code",
      "source": [
        "False and True"
      ],
      "metadata": {
        "colab": {
          "base_uri": "https://localhost:8080/"
        },
        "id": "nkswZEUw_qnP",
        "outputId": "53b20bbf-0220-4c8f-d052-84a42fd94e6c"
      },
      "execution_count": null,
      "outputs": [
        {
          "output_type": "execute_result",
          "data": {
            "text/plain": [
              "False"
            ]
          },
          "metadata": {},
          "execution_count": 36
        }
      ]
    },
    {
      "cell_type": "code",
      "source": [
        "True or False"
      ],
      "metadata": {
        "colab": {
          "base_uri": "https://localhost:8080/"
        },
        "id": "4jEHJu9t_qpm",
        "outputId": "8583dbf7-707f-49e2-fd06-a80796e7c63f"
      },
      "execution_count": null,
      "outputs": [
        {
          "output_type": "execute_result",
          "data": {
            "text/plain": [
              "True"
            ]
          },
          "metadata": {},
          "execution_count": 37
        }
      ]
    },
    {
      "cell_type": "code",
      "source": [
        "False or True"
      ],
      "metadata": {
        "colab": {
          "base_uri": "https://localhost:8080/"
        },
        "id": "jG2rPXZZ_qtA",
        "outputId": "f3f2acf0-0ba9-4563-d348-414929f37414"
      },
      "execution_count": null,
      "outputs": [
        {
          "output_type": "execute_result",
          "data": {
            "text/plain": [
              "True"
            ]
          },
          "metadata": {},
          "execution_count": 38
        }
      ]
    },
    {
      "cell_type": "code",
      "source": [
        "True or True"
      ],
      "metadata": {
        "colab": {
          "base_uri": "https://localhost:8080/"
        },
        "id": "RxJfN0a0_qwo",
        "outputId": "5c2d53e4-04d6-40b8-fb6f-f2106ef1bd4b"
      },
      "execution_count": null,
      "outputs": [
        {
          "output_type": "execute_result",
          "data": {
            "text/plain": [
              "True"
            ]
          },
          "metadata": {},
          "execution_count": 39
        }
      ]
    },
    {
      "cell_type": "code",
      "source": [
        "True or False"
      ],
      "metadata": {
        "colab": {
          "base_uri": "https://localhost:8080/"
        },
        "id": "4EBRf1ID_-py",
        "outputId": "38e07948-33ed-4655-a4da-44796c20dbc1"
      },
      "execution_count": null,
      "outputs": [
        {
          "output_type": "execute_result",
          "data": {
            "text/plain": [
              "True"
            ]
          },
          "metadata": {},
          "execution_count": 40
        }
      ]
    },
    {
      "cell_type": "code",
      "source": [
        "a = [\"bag\", 1, 2, 3]\n",
        "\"bag\" in a"
      ],
      "metadata": {
        "colab": {
          "base_uri": "https://localhost:8080/"
        },
        "id": "fjI3sCuc_-tP",
        "outputId": "2f77ab1e-870a-412b-ea91-4799d7412289"
      },
      "execution_count": null,
      "outputs": [
        {
          "output_type": "execute_result",
          "data": {
            "text/plain": [
              "True"
            ]
          },
          "metadata": {},
          "execution_count": 41
        }
      ]
    },
    {
      "cell_type": "code",
      "source": [
        "Qus 9: Write a python program to convert user input from string to integer , float, and boolean types."
      ],
      "metadata": {
        "id": "XD6yW3l4_-vr"
      },
      "execution_count": null,
      "outputs": []
    },
    {
      "cell_type": "code",
      "source": [
        "a = input (\"enter a name\")\n",
        "print (\"the name is\")"
      ],
      "metadata": {
        "colab": {
          "base_uri": "https://localhost:8080/"
        },
        "id": "VBEujv75_-yg",
        "outputId": "458088c8-6bb4-423e-c4de-bdf6d45c79af"
      },
      "execution_count": null,
      "outputs": [
        {
          "output_type": "stream",
          "name": "stdout",
          "text": [
            "enter a name bujji\n",
            "the name is\n"
          ]
        }
      ]
    },
    {
      "cell_type": "code",
      "source": [
        "a = \"bujji\"\n",
        "type(a)"
      ],
      "metadata": {
        "colab": {
          "base_uri": "https://localhost:8080/"
        },
        "id": "Np4HhT9r_-1Z",
        "outputId": "d2007aca-ec63-42db-8579-ecc259d5247b"
      },
      "execution_count": null,
      "outputs": [
        {
          "output_type": "execute_result",
          "data": {
            "text/plain": [
              "str"
            ]
          },
          "metadata": {},
          "execution_count": 46
        }
      ]
    },
    {
      "cell_type": "code",
      "source": [
        "a = \"4\"\n",
        "type(a)"
      ],
      "metadata": {
        "colab": {
          "base_uri": "https://localhost:8080/"
        },
        "id": "q7XzjC7G_-4p",
        "outputId": "c2a6c417-7945-4418-9cbf-31fd151da4d7"
      },
      "execution_count": null,
      "outputs": [
        {
          "output_type": "execute_result",
          "data": {
            "text/plain": [
              "str"
            ]
          },
          "metadata": {},
          "execution_count": 47
        }
      ]
    },
    {
      "cell_type": "code",
      "source": [
        "int(a)"
      ],
      "metadata": {
        "colab": {
          "base_uri": "https://localhost:8080/"
        },
        "id": "VRQ6fee3G-_Q",
        "outputId": "b8a544fc-eb1f-4d9d-9d5e-14d8cfb64f16"
      },
      "execution_count": null,
      "outputs": [
        {
          "output_type": "execute_result",
          "data": {
            "text/plain": [
              "4"
            ]
          },
          "metadata": {},
          "execution_count": 48
        }
      ]
    },
    {
      "cell_type": "code",
      "source": [
        "float(4)"
      ],
      "metadata": {
        "colab": {
          "base_uri": "https://localhost:8080/"
        },
        "id": "9D4ZA75HG_U9",
        "outputId": "ffc1f2d8-e926-4d58-c9db-c606b73ec188"
      },
      "execution_count": null,
      "outputs": [
        {
          "output_type": "execute_result",
          "data": {
            "text/plain": [
              "4.0"
            ]
          },
          "metadata": {},
          "execution_count": 49
        }
      ]
    },
    {
      "cell_type": "code",
      "source": [
        "bool(a)"
      ],
      "metadata": {
        "colab": {
          "base_uri": "https://localhost:8080/"
        },
        "id": "Rp8lD8O1G_pN",
        "outputId": "ce63cf6f-ca99-4475-f28c-6afbe638cd85"
      },
      "execution_count": null,
      "outputs": [
        {
          "output_type": "execute_result",
          "data": {
            "text/plain": [
              "True"
            ]
          },
          "metadata": {},
          "execution_count": 50
        }
      ]
    },
    {
      "cell_type": "code",
      "source": [
        "Ques10: Write code to demonstrate type casting with list elements"
      ],
      "metadata": {
        "id": "7taXv2eLHd-n"
      },
      "execution_count": null,
      "outputs": []
    },
    {
      "cell_type": "code",
      "source": [
        "\"pw\" + \"skills\""
      ],
      "metadata": {
        "colab": {
          "base_uri": "https://localhost:8080/",
          "height": 35
        },
        "id": "DKX7g6xEHaTm",
        "outputId": "2a78759c-7f70-435d-8164-e3b18db48f90"
      },
      "execution_count": null,
      "outputs": [
        {
          "output_type": "execute_result",
          "data": {
            "text/plain": [
              "'pwskills'"
            ],
            "application/vnd.google.colaboratory.intrinsic+json": {
              "type": "string"
            }
          },
          "metadata": {},
          "execution_count": 51
        }
      ]
    },
    {
      "cell_type": "code",
      "source": [
        "a = \"Neeli\"\n",
        "b = \"varshitha\"\n",
        "a+b"
      ],
      "metadata": {
        "colab": {
          "base_uri": "https://localhost:8080/",
          "height": 35
        },
        "id": "_-gtTcglHaWH",
        "outputId": "ddd599c8-d117-4ed7-8115-d29ac8e4d8e7"
      },
      "execution_count": null,
      "outputs": [
        {
          "output_type": "execute_result",
          "data": {
            "text/plain": [
              "'Neelivarshitha'"
            ],
            "application/vnd.google.colaboratory.intrinsic+json": {
              "type": "string"
            }
          },
          "metadata": {},
          "execution_count": 52
        }
      ]
    },
    {
      "cell_type": "code",
      "source": [
        "qus11 : Write a programm that checks if a number is positive, negative, or zero"
      ],
      "metadata": {
        "id": "QIh5rp-UHafC"
      },
      "execution_count": null,
      "outputs": []
    },
    {
      "cell_type": "code",
      "source": [],
      "metadata": {
        "id": "mgRCKbGI1OWf"
      },
      "execution_count": null,
      "outputs": []
    },
    {
      "cell_type": "code",
      "source": [
        "Qus12: write a for loop to print numbers from 1 to 10"
      ],
      "metadata": {
        "id": "xJ8q5jh_NoSe"
      },
      "execution_count": null,
      "outputs": []
    },
    {
      "cell_type": "code",
      "source": [
        "list (range(1,10))"
      ],
      "metadata": {
        "colab": {
          "base_uri": "https://localhost:8080/"
        },
        "id": "hF0mpuUONoVf",
        "outputId": "e2ae4ba2-6402-4407-e1ce-45a47dacadb3"
      },
      "execution_count": null,
      "outputs": [
        {
          "output_type": "execute_result",
          "data": {
            "text/plain": [
              "[1, 2, 3, 4, 5, 6, 7, 8, 9]"
            ]
          },
          "metadata": {},
          "execution_count": 60
        }
      ]
    },
    {
      "cell_type": "code",
      "source": [
        "for i in range (10):\n",
        "  print (i)"
      ],
      "metadata": {
        "colab": {
          "base_uri": "https://localhost:8080/"
        },
        "id": "gdsoIp-pNocG",
        "outputId": "f113f213-d167-4955-cfac-60fe046715be"
      },
      "execution_count": null,
      "outputs": [
        {
          "output_type": "stream",
          "name": "stdout",
          "text": [
            "0\n",
            "1\n",
            "2\n",
            "3\n",
            "4\n",
            "5\n",
            "6\n",
            "7\n",
            "8\n",
            "9\n"
          ]
        }
      ]
    },
    {
      "cell_type": "code",
      "source": [
        "Qus13: Write a python programm to find sum of all even numbers between 1 to 50"
      ],
      "metadata": {
        "id": "qs0nYykEYm28"
      },
      "execution_count": null,
      "outputs": []
    },
    {
      "cell_type": "code",
      "source": [
        "list (range(0,50, 2))"
      ],
      "metadata": {
        "colab": {
          "base_uri": "https://localhost:8080/"
        },
        "id": "L_MBKaRkYnHr",
        "outputId": "fbae51e9-16dd-485d-fa1e-4c8a923863b2"
      },
      "execution_count": null,
      "outputs": [
        {
          "output_type": "execute_result",
          "data": {
            "text/plain": [
              "[0,\n",
              " 2,\n",
              " 4,\n",
              " 6,\n",
              " 8,\n",
              " 10,\n",
              " 12,\n",
              " 14,\n",
              " 16,\n",
              " 18,\n",
              " 20,\n",
              " 22,\n",
              " 24,\n",
              " 26,\n",
              " 28,\n",
              " 30,\n",
              " 32,\n",
              " 34,\n",
              " 36,\n",
              " 38,\n",
              " 40,\n",
              " 42,\n",
              " 44,\n",
              " 46,\n",
              " 48]"
            ]
          },
          "metadata": {},
          "execution_count": 75
        }
      ]
    },
    {
      "cell_type": "code",
      "source": [
        "Qus14: Write a program to reverse a string using a while loop"
      ],
      "metadata": {
        "id": "PIifdDW7aDSc"
      },
      "execution_count": null,
      "outputs": []
    },
    {
      "cell_type": "code",
      "source": [
        "input_str= \"hello\"\n",
        "reversed_str = \"\"\n",
        "index = len(input_string) - 1\n",
        "\n",
        "while index >= 0:\n",
        "  reversed_str += input_string[index]\n",
        "  index -= 1\n",
        "  print(\"Original String:\", input_str)\n",
        "  print(\"Reversed string:\", reversed_str)"
      ],
      "metadata": {
        "id": "vJeYjEOraDhg",
        "colab": {
          "base_uri": "https://localhost:8080/"
        },
        "outputId": "711dc6a8-fec0-4df6-c153-168f4153ccfd"
      },
      "execution_count": null,
      "outputs": [
        {
          "output_type": "stream",
          "name": "stdout",
          "text": [
            "Original String: hello\n",
            "Reversed string: o\n",
            "Original String: hello\n",
            "Reversed string: ol\n",
            "Original String: hello\n",
            "Reversed string: oll\n",
            "Original String: hello\n",
            "Reversed string: olle\n",
            "Original String: hello\n",
            "Reversed string: olleh\n"
          ]
        }
      ]
    },
    {
      "cell_type": "code",
      "source": [
        "Qus15 : write a python program to calculate the fractional of a number provided by the user using a while loop"
      ],
      "metadata": {
        "id": "FuhdC26XaDwH"
      },
      "execution_count": null,
      "outputs": []
    },
    {
      "cell_type": "code",
      "source": [],
      "metadata": {
        "id": "t7Q1B_SdKq93"
      },
      "execution_count": null,
      "outputs": []
    },
    {
      "cell_type": "code",
      "source": [],
      "metadata": {
        "id": "0eO7TJoKKrBQ"
      },
      "execution_count": null,
      "outputs": []
    },
    {
      "cell_type": "code",
      "source": [],
      "metadata": {
        "id": "4gRpaFhKKrKh"
      },
      "execution_count": null,
      "outputs": []
    }
  ]
}