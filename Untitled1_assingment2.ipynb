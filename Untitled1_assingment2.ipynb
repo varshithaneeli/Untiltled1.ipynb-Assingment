{
  "nbformat": 4,
  "nbformat_minor": 0,
  "metadata": {
    "colab": {
      "provenance": []
    },
    "kernelspec": {
      "name": "python3",
      "display_name": "Python 3"
    },
    "language_info": {
      "name": "python"
    }
  },
  "cells": [
    {
      "cell_type": "code",
      "source": [
        "                                       \"Practical Questions\""
      ],
      "metadata": {
        "id": "zjd0lrXETWIz"
      },
      "execution_count": null,
      "outputs": []
    },
    {
      "cell_type": "markdown",
      "source": [],
      "metadata": {
        "id": "OcQSKy2d5lJv"
      }
    },
    {
      "cell_type": "code",
      "execution_count": null,
      "metadata": {
        "id": "1KtGadYrkiBx"
      },
      "outputs": [],
      "source": [
        "Qus1 : Write a code to create a string with your name and print it."
      ]
    },
    {
      "cell_type": "code",
      "source": [
        "string = \"Varshitha\"\n",
        "string"
      ],
      "metadata": {
        "colab": {
          "base_uri": "https://localhost:8080/",
          "height": 35
        },
        "id": "CKg-ukL6k332",
        "outputId": "69ba6799-e40a-4657-e13c-73d6b28679f7"
      },
      "execution_count": null,
      "outputs": [
        {
          "output_type": "execute_result",
          "data": {
            "text/plain": [
              "'Varshitha'"
            ],
            "application/vnd.google.colaboratory.intrinsic+json": {
              "type": "string"
            }
          },
          "metadata": {},
          "execution_count": 1
        }
      ]
    },
    {
      "cell_type": "code",
      "source": [
        " Qus2 :Write a code to find the length of the string \"Hello World\""
      ],
      "metadata": {
        "id": "GFcYUqBfnmuo"
      },
      "execution_count": null,
      "outputs": []
    },
    {
      "cell_type": "code",
      "source": [
        "s = \"Hello World\"\n",
        "len(s)"
      ],
      "metadata": {
        "colab": {
          "base_uri": "https://localhost:8080/"
        },
        "id": "ywf7Pdrnk4Fp",
        "outputId": "86098292-f6d5-4edb-db0d-6d00d2ab41e1"
      },
      "execution_count": null,
      "outputs": [
        {
          "output_type": "execute_result",
          "data": {
            "text/plain": [
              "11"
            ]
          },
          "metadata": {},
          "execution_count": 9
        }
      ]
    },
    {
      "cell_type": "code",
      "source": [
        "Qus3 : Write a code to slice the first 3 characters from the string \"Python Programming\""
      ],
      "metadata": {
        "id": "pBiYGU8qk4Ih"
      },
      "execution_count": null,
      "outputs": []
    },
    {
      "cell_type": "code",
      "source": [
        "String = \"Python Programming\"\n",
        "String"
      ],
      "metadata": {
        "colab": {
          "base_uri": "https://localhost:8080/",
          "height": 35
        },
        "id": "Q0nISAQBk4LL",
        "outputId": "4513ae4e-2a07-4366-f325-91727966093f"
      },
      "execution_count": null,
      "outputs": [
        {
          "output_type": "execute_result",
          "data": {
            "text/plain": [
              "'Python Programming'"
            ],
            "application/vnd.google.colaboratory.intrinsic+json": {
              "type": "string"
            }
          },
          "metadata": {},
          "execution_count": 10
        }
      ]
    },
    {
      "cell_type": "code",
      "source": [
        "String[:-15]"
      ],
      "metadata": {
        "colab": {
          "base_uri": "https://localhost:8080/",
          "height": 35
        },
        "id": "vP1l-Hqkk4Oz",
        "outputId": "c3c402ef-91b1-4d8a-fc45-9531b9833fdd"
      },
      "execution_count": null,
      "outputs": [
        {
          "output_type": "execute_result",
          "data": {
            "text/plain": [
              "'Pyt'"
            ],
            "application/vnd.google.colaboratory.intrinsic+json": {
              "type": "string"
            }
          },
          "metadata": {},
          "execution_count": 12
        }
      ]
    },
    {
      "cell_type": "code",
      "source": [
        "Qus4 :Write a code to convert the string \"hello\" to uppercase."
      ],
      "metadata": {
        "id": "JohrXQWro1Co"
      },
      "execution_count": null,
      "outputs": []
    },
    {
      "cell_type": "code",
      "source": [
        "s = \"hello\"\n",
        "s"
      ],
      "metadata": {
        "colab": {
          "base_uri": "https://localhost:8080/",
          "height": 35
        },
        "id": "gugQ2m-Fo1Nr",
        "outputId": "12d8b74b-f100-493d-cc02-d49f62a7d5f7"
      },
      "execution_count": null,
      "outputs": [
        {
          "output_type": "execute_result",
          "data": {
            "text/plain": [
              "'hello'"
            ],
            "application/vnd.google.colaboratory.intrinsic+json": {
              "type": "string"
            }
          },
          "metadata": {},
          "execution_count": 14
        }
      ]
    },
    {
      "cell_type": "code",
      "source": [
        "text = \"hello\"\n",
        "text.upper()"
      ],
      "metadata": {
        "colab": {
          "base_uri": "https://localhost:8080/",
          "height": 35
        },
        "id": "ruDrI5rno1QY",
        "outputId": "80c68e9e-0f0f-4374-ae49-9a864ebcedee"
      },
      "execution_count": null,
      "outputs": [
        {
          "output_type": "execute_result",
          "data": {
            "text/plain": [
              "'HELLO'"
            ],
            "application/vnd.google.colaboratory.intrinsic+json": {
              "type": "string"
            }
          },
          "metadata": {},
          "execution_count": 20
        }
      ]
    },
    {
      "cell_type": "code",
      "source": [
        "Qus5 :Write a code to replace the word \"apple\" with \"orange\" in the string \"I like apple\""
      ],
      "metadata": {
        "id": "9I6DMBwUo1TJ"
      },
      "execution_count": null,
      "outputs": []
    },
    {
      "cell_type": "code",
      "source": [
        "s = \"I like apple\"\n",
        "s.replace(\"apple\" , \"orange\")"
      ],
      "metadata": {
        "colab": {
          "base_uri": "https://localhost:8080/",
          "height": 35
        },
        "id": "tb-3eGb3o1V6",
        "outputId": "3af44e51-8b55-46bd-8163-143fe1522470"
      },
      "execution_count": null,
      "outputs": [
        {
          "output_type": "execute_result",
          "data": {
            "text/plain": [
              "'I like orange'"
            ],
            "application/vnd.google.colaboratory.intrinsic+json": {
              "type": "string"
            }
          },
          "metadata": {},
          "execution_count": 23
        }
      ]
    },
    {
      "cell_type": "code",
      "source": [
        "Qus6 : Write a code to create a list with numbers 1 to 5 and print it"
      ],
      "metadata": {
        "id": "tW8awsKTo1ZR"
      },
      "execution_count": null,
      "outputs": []
    },
    {
      "cell_type": "code",
      "source": [
        "list = [1,2,3,4,5]\n",
        "list"
      ],
      "metadata": {
        "id": "fap_q4RNsZ8d",
        "colab": {
          "base_uri": "https://localhost:8080/"
        },
        "outputId": "eb2d1684-4914-4b83-8532-98291c2b5597"
      },
      "execution_count": null,
      "outputs": [
        {
          "output_type": "execute_result",
          "data": {
            "text/plain": [
              "[1, 2, 3, 4, 5]"
            ]
          },
          "metadata": {},
          "execution_count": 22
        }
      ]
    },
    {
      "cell_type": "code",
      "source": [
        "Qus7 : write a code to append the number 10 to the list [1,2,3,4]"
      ],
      "metadata": {
        "id": "J5hRyVc8saIK"
      },
      "execution_count": null,
      "outputs": []
    },
    {
      "cell_type": "code",
      "source": [
        "list = [1,2,3,4]\n",
        "list"
      ],
      "metadata": {
        "id": "0Gr9avyZsaLw",
        "colab": {
          "base_uri": "https://localhost:8080/"
        },
        "outputId": "32c074ac-8b57-4287-b78c-9fb6b3fb8eee"
      },
      "execution_count": null,
      "outputs": [
        {
          "output_type": "execute_result",
          "data": {
            "text/plain": [
              "[1, 2, 3, 4]"
            ]
          },
          "metadata": {},
          "execution_count": 29
        }
      ]
    },
    {
      "cell_type": "code",
      "source": [
        "list.append(\"10\")\n",
        "list"
      ],
      "metadata": {
        "id": "y9Wh1S3-tFBv",
        "colab": {
          "base_uri": "https://localhost:8080/"
        },
        "outputId": "efc04dae-6cd4-4748-af12-f6d7b97abf6f"
      },
      "execution_count": null,
      "outputs": [
        {
          "output_type": "execute_result",
          "data": {
            "text/plain": [
              "[1, 2, 3, 4, '10', '10', '10', '10']"
            ]
          },
          "metadata": {},
          "execution_count": 35
        }
      ]
    },
    {
      "cell_type": "code",
      "source": [
        "Qus8 Write a code to remove the number 3 from the list[1,2,3,4,5]"
      ],
      "metadata": {
        "id": "nZjJZQhPtFOJ"
      },
      "execution_count": null,
      "outputs": []
    },
    {
      "cell_type": "code",
      "source": [
        "my_list = [1,2,3,4,5]\n",
        "my_list.remove(3)\n",
        "print(my_list)"
      ],
      "metadata": {
        "colab": {
          "base_uri": "https://localhost:8080/"
        },
        "id": "2vh-RuXpwIo3",
        "outputId": "e3e2e953-58d3-4cad-d36b-ea15439c0743"
      },
      "execution_count": null,
      "outputs": [
        {
          "output_type": "stream",
          "name": "stdout",
          "text": [
            "[1, 2, 4, 5]\n"
          ]
        }
      ]
    },
    {
      "cell_type": "code",
      "source": [
        "Qus9:write a code to access the second element in the list['a','b','c','d']"
      ],
      "metadata": {
        "id": "0X5nve1awIrm"
      },
      "execution_count": null,
      "outputs": []
    },
    {
      "cell_type": "code",
      "source": [
        "my_list = ['a','b','c','d']\n",
        "second_element = my_list\n",
        "print(second_element)"
      ],
      "metadata": {
        "id": "3Pt3FIcpwIvK",
        "colab": {
          "base_uri": "https://localhost:8080/"
        },
        "outputId": "6e457fee-99eb-403c-feb0-24231e0a970e"
      },
      "execution_count": null,
      "outputs": [
        {
          "output_type": "stream",
          "name": "stdout",
          "text": [
            "['a', 'b', 'c', 'd']\n"
          ]
        }
      ]
    },
    {
      "cell_type": "code",
      "source": [
        "Qus10: Write a code to reverse the list [10,20,30,40,50]."
      ],
      "metadata": {
        "id": "Zp4902UxJTqW"
      },
      "execution_count": null,
      "outputs": []
    },
    {
      "cell_type": "code",
      "source": [
        "a = [10,20,30,40,50]\n",
        "a.reverse()\n",
        "print(a)"
      ],
      "metadata": {
        "id": "omaYTS8GJT3e",
        "colab": {
          "base_uri": "https://localhost:8080/"
        },
        "outputId": "042c07ea-0626-4936-d31f-b953bc098de1"
      },
      "execution_count": null,
      "outputs": [
        {
          "output_type": "stream",
          "name": "stdout",
          "text": [
            "[50, 40, 30, 20, 10]\n"
          ]
        }
      ]
    },
    {
      "cell_type": "code",
      "source": [
        "Qus11: Write a code to create a tuple with the elements 100,200,300 and print it"
      ],
      "metadata": {
        "id": "BQknQoRikKzd"
      },
      "execution_count": null,
      "outputs": []
    },
    {
      "cell_type": "code",
      "source": [
        "a = (100,200,300)\n",
        "print(a)"
      ],
      "metadata": {
        "colab": {
          "base_uri": "https://localhost:8080/"
        },
        "id": "M5yTdSpOkK3B",
        "outputId": "354bafe6-823c-4d6b-fdd6-80f216ea2d0c"
      },
      "execution_count": null,
      "outputs": [
        {
          "output_type": "stream",
          "name": "stdout",
          "text": [
            "(100, 200, 300)\n"
          ]
        }
      ]
    },
    {
      "cell_type": "code",
      "source": [
        "type(a)"
      ],
      "metadata": {
        "colab": {
          "base_uri": "https://localhost:8080/"
        },
        "id": "X3d5eBd2kK6j",
        "outputId": "e74ced9c-bfda-441b-940f-22c453be1be7"
      },
      "execution_count": null,
      "outputs": [
        {
          "output_type": "execute_result",
          "data": {
            "text/plain": [
              "tuple"
            ]
          },
          "metadata": {},
          "execution_count": 4
        }
      ]
    },
    {
      "cell_type": "code",
      "source": [
        "Qus12:Write a code to access the second -to -last elements of the tuple('red','green','blue',yellow)"
      ],
      "metadata": {
        "id": "SFqBLpw-kK9a"
      },
      "execution_count": null,
      "outputs": []
    },
    {
      "cell_type": "code",
      "source": [
        "b = ('red', 'green','blue','yellow')\n",
        "b\n"
      ],
      "metadata": {
        "colab": {
          "base_uri": "https://localhost:8080/"
        },
        "id": "8HbxQ7PLkLA0",
        "outputId": "a6ad80f1-bff4-46e2-e56f-826e43878529"
      },
      "execution_count": null,
      "outputs": [
        {
          "output_type": "execute_result",
          "data": {
            "text/plain": [
              "('red', 'green', 'blue', 'yellow')"
            ]
          },
          "metadata": {},
          "execution_count": 5
        }
      ]
    },
    {
      "cell_type": "code",
      "source": [
        "b[2:]"
      ],
      "metadata": {
        "colab": {
          "base_uri": "https://localhost:8080/"
        },
        "id": "g241cd0jnWW1",
        "outputId": "1658a98d-ef97-42e4-de46-5af3d2d1e10f"
      },
      "execution_count": null,
      "outputs": [
        {
          "output_type": "execute_result",
          "data": {
            "text/plain": [
              "('blue', 'yellow')"
            ]
          },
          "metadata": {},
          "execution_count": 7
        }
      ]
    },
    {
      "cell_type": "code",
      "source": [
        "Qus13:Write a code to find the minimum number in the tuple(10,20,5,15)"
      ],
      "metadata": {
        "id": "StJDl8MBnWbW"
      },
      "execution_count": null,
      "outputs": []
    },
    {
      "cell_type": "code",
      "source": [
        "tuple1 = (10,20,5,15)\n",
        "tuple1"
      ],
      "metadata": {
        "id": "DxH5Q9fGnWeh",
        "colab": {
          "base_uri": "https://localhost:8080/"
        },
        "outputId": "49e44633-4088-47d2-a0a6-cd4b06173648"
      },
      "execution_count": null,
      "outputs": [
        {
          "output_type": "execute_result",
          "data": {
            "text/plain": [
              "(10, 20, 5, 15)"
            ]
          },
          "metadata": {},
          "execution_count": 30
        }
      ]
    },
    {
      "cell_type": "code",
      "source": [
        "min(tuple1)"
      ],
      "metadata": {
        "colab": {
          "base_uri": "https://localhost:8080/"
        },
        "id": "kOKTZ80dRNn-",
        "outputId": "a2c92f51-e03b-4ba8-fb07-d337c406c50a"
      },
      "execution_count": null,
      "outputs": [
        {
          "output_type": "execute_result",
          "data": {
            "text/plain": [
              "5"
            ]
          },
          "metadata": {},
          "execution_count": 31
        }
      ]
    },
    {
      "cell_type": "code",
      "source": [
        "Qus14:Write a code to find the index of the element \"cat\" in tuple ('dog','cat','rabbit')"
      ],
      "metadata": {
        "id": "W2f16B06nWhd"
      },
      "execution_count": null,
      "outputs": []
    },
    {
      "cell_type": "code",
      "source": [
        "a = ('dog','cat','rabbit')\n",
        "a.count('cat')"
      ],
      "metadata": {
        "colab": {
          "base_uri": "https://localhost:8080/"
        },
        "id": "w9ejsEdEnWlD",
        "outputId": "e4f9cd77-72c8-49a7-b795-c0273a53bb48"
      },
      "execution_count": null,
      "outputs": [
        {
          "output_type": "execute_result",
          "data": {
            "text/plain": [
              "1"
            ]
          },
          "metadata": {},
          "execution_count": 8
        }
      ]
    },
    {
      "cell_type": "code",
      "source": [
        "Qus15:Write a code to create a tuple containing three different fruits and check if \"kiwi\" is in it"
      ],
      "metadata": {
        "id": "oZfoJ4YZo8YM"
      },
      "execution_count": null,
      "outputs": []
    },
    {
      "cell_type": "code",
      "source": [
        "c = ('orange','banana','grapes','watermelon')\n",
        "c"
      ],
      "metadata": {
        "colab": {
          "base_uri": "https://localhost:8080/"
        },
        "id": "AndsVASho8lq",
        "outputId": "1b040311-936f-4aeb-df9d-cef0e21cd541"
      },
      "execution_count": null,
      "outputs": [
        {
          "output_type": "execute_result",
          "data": {
            "text/plain": [
              "('orange', 'banana', 'grapes', 'watermelon')"
            ]
          },
          "metadata": {},
          "execution_count": 9
        }
      ]
    },
    {
      "cell_type": "code",
      "source": [
        "'kiwi' in c"
      ],
      "metadata": {
        "colab": {
          "base_uri": "https://localhost:8080/"
        },
        "id": "en_tMqaRqSFq",
        "outputId": "64e8adbc-9bff-4d07-c2dc-856c7085992d"
      },
      "execution_count": null,
      "outputs": [
        {
          "output_type": "execute_result",
          "data": {
            "text/plain": [
              "False"
            ]
          },
          "metadata": {},
          "execution_count": 11
        }
      ]
    },
    {
      "cell_type": "code",
      "source": [
        " a = ('grapes','banana', 'apple')\n",
        " 'kiwi' in a"
      ],
      "metadata": {
        "colab": {
          "base_uri": "https://localhost:8080/"
        },
        "id": "KQwIQ1EAqm_1",
        "outputId": "788a1359-f103-497b-f346-cfe00be9c479"
      },
      "execution_count": null,
      "outputs": [
        {
          "output_type": "execute_result",
          "data": {
            "text/plain": [
              "False"
            ]
          },
          "metadata": {},
          "execution_count": 12
        }
      ]
    },
    {
      "cell_type": "code",
      "source": [
        "Qus16: write a code to create a set with the elements 'a','b','c' and print it"
      ],
      "metadata": {
        "id": "7ZG2ttolqSIn"
      },
      "execution_count": null,
      "outputs": []
    },
    {
      "cell_type": "code",
      "source": [
        "set_name = {'a','b', 'c'}\n",
        "set_name"
      ],
      "metadata": {
        "colab": {
          "base_uri": "https://localhost:8080/"
        },
        "id": "MTRLZhS2qSLR",
        "outputId": "6250f210-3ec5-4fc3-fccb-003c2de739fa"
      },
      "execution_count": null,
      "outputs": [
        {
          "output_type": "execute_result",
          "data": {
            "text/plain": [
              "{'a', 'b', 'c'}"
            ]
          },
          "metadata": {},
          "execution_count": 19
        }
      ]
    },
    {
      "cell_type": "code",
      "source": [
        "Qus17: Write a code to clear all elements from the set{1,2,3,4,5}."
      ],
      "metadata": {
        "id": "rkLdkN6BqSOB"
      },
      "execution_count": null,
      "outputs": []
    },
    {
      "cell_type": "code",
      "source": [
        "set_name = {1,2,3,4,5}\n",
        "set_name\n"
      ],
      "metadata": {
        "colab": {
          "base_uri": "https://localhost:8080/"
        },
        "id": "OPD_R3X2qSQ4",
        "outputId": "7591f372-8866-4c4d-f7aa-52b6a0c1e31e"
      },
      "execution_count": null,
      "outputs": [
        {
          "output_type": "execute_result",
          "data": {
            "text/plain": [
              "{1, 2, 3, 4, 5}"
            ]
          },
          "metadata": {},
          "execution_count": 22
        }
      ]
    },
    {
      "cell_type": "code",
      "source": [
        "set_name.clear"
      ],
      "metadata": {
        "colab": {
          "base_uri": "https://localhost:8080/"
        },
        "id": "z8isITKkqSUa",
        "outputId": "c254eab7-3348-4ce8-ebaa-8b6959b93cb6"
      },
      "execution_count": null,
      "outputs": [
        {
          "output_type": "execute_result",
          "data": {
            "text/plain": [
              "<function set.clear>"
            ]
          },
          "metadata": {},
          "execution_count": 23
        }
      ]
    },
    {
      "cell_type": "code",
      "source": [
        "Qus18: Write a code to remove the element 4 from the set{1,2,3,4}"
      ],
      "metadata": {
        "id": "1251EyYbtD01"
      },
      "execution_count": null,
      "outputs": []
    },
    {
      "cell_type": "code",
      "source": [
        "a = {1,2,3,4}\n",
        "a"
      ],
      "metadata": {
        "colab": {
          "base_uri": "https://localhost:8080/"
        },
        "id": "mfFpPBchtD31",
        "outputId": "9f9e0b4f-6209-43d6-cd44-0c9de5123155"
      },
      "execution_count": null,
      "outputs": [
        {
          "output_type": "execute_result",
          "data": {
            "text/plain": [
              "{1, 2, 3, 4}"
            ]
          },
          "metadata": {},
          "execution_count": 29
        }
      ]
    },
    {
      "cell_type": "code",
      "source": [
        "a = {1 ,2 ,3 , 4}\n",
        "a.remove(4)\n",
        "print(a)"
      ],
      "metadata": {
        "colab": {
          "base_uri": "https://localhost:8080/"
        },
        "id": "fvWpNGTtte8V",
        "outputId": "03fb4ddd-3bbf-4913-87d7-62a9c0013b80"
      },
      "execution_count": null,
      "outputs": [
        {
          "output_type": "stream",
          "name": "stdout",
          "text": [
            "{1, 2, 3}\n"
          ]
        }
      ]
    },
    {
      "cell_type": "code",
      "source": [
        "Qus19:Write a code to find the union of two sets {1,2,3} and {3,4,5}"
      ],
      "metadata": {
        "id": "F5TBY9NHtD6a"
      },
      "execution_count": null,
      "outputs": []
    },
    {
      "cell_type": "code",
      "source": [
        "a1 = {1,2,3}\n",
        "a2 = {3,4,5}\n",
        "a1|a2"
      ],
      "metadata": {
        "colab": {
          "base_uri": "https://localhost:8080/"
        },
        "id": "qpEYlVF_tD9Y",
        "outputId": "eb25ee64-c7c0-46f4-ef9b-589d48ce8f07"
      },
      "execution_count": null,
      "outputs": [
        {
          "output_type": "execute_result",
          "data": {
            "text/plain": [
              "{1, 2, 3, 4, 5}"
            ]
          },
          "metadata": {},
          "execution_count": 32
        }
      ]
    },
    {
      "cell_type": "code",
      "source": [
        "Qus20: Write a code to find the intersection of two sets {1,2,3} and {3,4,5}"
      ],
      "metadata": {
        "id": "KTZD_OlatD__"
      },
      "execution_count": null,
      "outputs": []
    },
    {
      "cell_type": "code",
      "source": [
        "b1 = {1,2,3}\n",
        "b2 = {3,4,5}\n",
        "b1 & b2"
      ],
      "metadata": {
        "colab": {
          "base_uri": "https://localhost:8080/"
        },
        "id": "_kPCv7fYtEDU",
        "outputId": "17e4b3da-c8d0-437d-f065-87004577f37b"
      },
      "execution_count": null,
      "outputs": [
        {
          "output_type": "execute_result",
          "data": {
            "text/plain": [
              "{3}"
            ]
          },
          "metadata": {},
          "execution_count": 34
        }
      ]
    },
    {
      "cell_type": "code",
      "source": [
        "Qus21: Write a code to create a dictionary with the keys \"name\", \"age\", and \"city\", and print it"
      ],
      "metadata": {
        "id": "cxBs9U6Vv2qH"
      },
      "execution_count": null,
      "outputs": []
    },
    {
      "cell_type": "code",
      "source": [
        "a = {\"name\": \"varsha\" , \"age\":\"21\", \"city\": \"kothagudem\" }\n",
        "a"
      ],
      "metadata": {
        "colab": {
          "base_uri": "https://localhost:8080/"
        },
        "id": "-Il9FY_Dv2tC",
        "outputId": "f82bd2f0-8be7-4b1d-af63-bd266d1c2e32"
      },
      "execution_count": null,
      "outputs": [
        {
          "output_type": "execute_result",
          "data": {
            "text/plain": [
              "{'name': 'varsha', 'age': '21', 'city': 'kothagudem'}"
            ]
          },
          "metadata": {},
          "execution_count": 37
        }
      ]
    },
    {
      "cell_type": "code",
      "source": [
        "Qus 22:Write  a code to add  a new key-value pair \"country\": \"USA\" to the dictionary , {'name':'John','age' :25}"
      ],
      "metadata": {
        "id": "XyJT4DM1v2wG"
      },
      "execution_count": null,
      "outputs": []
    },
    {
      "cell_type": "code",
      "source": [
        " a = {'name':'John', 'age':25}\n",
        " a"
      ],
      "metadata": {
        "colab": {
          "base_uri": "https://localhost:8080/"
        },
        "id": "rVzfH0ZTv2zf",
        "outputId": "770c5f0d-9e8c-4673-e7fb-dc7e7328ed50"
      },
      "execution_count": null,
      "outputs": [
        {
          "output_type": "execute_result",
          "data": {
            "text/plain": [
              "{'name': 'John', 'age': 25}"
            ]
          },
          "metadata": {},
          "execution_count": 38
        }
      ]
    },
    {
      "cell_type": "code",
      "source": [
        "a['name'] = \"USA\"\n",
        "a"
      ],
      "metadata": {
        "colab": {
          "base_uri": "https://localhost:8080/"
        },
        "id": "xVnXk57F4olf",
        "outputId": "26c44b05-c1ec-4b5c-868c-33f60bbf2970"
      },
      "execution_count": null,
      "outputs": [
        {
          "output_type": "execute_result",
          "data": {
            "text/plain": [
              "{'name': 'USA', 'age': 25}"
            ]
          },
          "metadata": {},
          "execution_count": 41
        }
      ]
    },
    {
      "cell_type": "code",
      "source": [
        "a"
      ],
      "metadata": {
        "colab": {
          "base_uri": "https://localhost:8080/"
        },
        "id": "kWcFVhJ-4oom",
        "outputId": "0206d4d9-6ed9-4645-ce7c-c86dc2794bd3"
      },
      "execution_count": null,
      "outputs": [
        {
          "output_type": "execute_result",
          "data": {
            "text/plain": [
              "{'name': 'USA', 'age': 25}"
            ]
          },
          "metadata": {},
          "execution_count": 42
        }
      ]
    },
    {
      "cell_type": "code",
      "source": [
        "a['country'] = 'USA'\n",
        "print(a)"
      ],
      "metadata": {
        "colab": {
          "base_uri": "https://localhost:8080/"
        },
        "id": "6ofUlfPK4ort",
        "outputId": "b951f688-6971-4474-b45b-a7e998d9ebc1"
      },
      "execution_count": null,
      "outputs": [
        {
          "output_type": "stream",
          "name": "stdout",
          "text": [
            "{'name': 'county', 'age': 25, 'country': 'USA'}\n"
          ]
        }
      ]
    },
    {
      "cell_type": "code",
      "source": [
        "Qus23: Write a code to access the value associated with the key \"name\" in the dictionary {'name':'Alice','age:'30}"
      ],
      "metadata": {
        "id": "S8h_OTUl4ouT"
      },
      "execution_count": null,
      "outputs": []
    },
    {
      "cell_type": "code",
      "source": [
        "b = {'name': 'Alice', 'age':30}\n",
        "name_value = b ['name']\n",
        "print(name_value)"
      ],
      "metadata": {
        "colab": {
          "base_uri": "https://localhost:8080/"
        },
        "id": "xKRLcgPd4oxy",
        "outputId": "090cbbe2-3b22-4c0d-cc18-17f59ebed8d3"
      },
      "execution_count": null,
      "outputs": [
        {
          "output_type": "stream",
          "name": "stdout",
          "text": [
            "Alice\n"
          ]
        }
      ]
    },
    {
      "cell_type": "code",
      "source": [
        "Qus24:Write a code to remove the key \"age\" from the dictionary {'name':'Bob','Age':22,'city':'New York'}."
      ],
      "metadata": {
        "id": "vulNXRqk8pNw"
      },
      "execution_count": null,
      "outputs": []
    },
    {
      "cell_type": "code",
      "source": [
        "d = {'name': 'Bob','Age':22,'city':'New York'}\n",
        "d"
      ],
      "metadata": {
        "colab": {
          "base_uri": "https://localhost:8080/"
        },
        "id": "6HCEJUNMg4ks",
        "outputId": "0cffe279-b212-49f8-99d9-bf470805c828"
      },
      "execution_count": null,
      "outputs": [
        {
          "output_type": "execute_result",
          "data": {
            "text/plain": [
              "{'name': 'Bob', 'Age': 22, 'city': 'New York'}"
            ]
          },
          "metadata": {},
          "execution_count": 1
        }
      ]
    },
    {
      "cell_type": "code",
      "source": [
        "del d[\"Age\"]\n",
        "d"
      ],
      "metadata": {
        "id": "qSNO6eCe8pQq",
        "colab": {
          "base_uri": "https://localhost:8080/"
        },
        "outputId": "e5dbd4dc-053f-4231-e880-beffe6d72e6d"
      },
      "execution_count": null,
      "outputs": [
        {
          "output_type": "execute_result",
          "data": {
            "text/plain": [
              "{'name': 'Bob', 'city': 'New York'}"
            ]
          },
          "metadata": {},
          "execution_count": 2
        }
      ]
    },
    {
      "cell_type": "code",
      "source": [
        "Qus25: Write a code to check if the key \"city\"exists in the dictionary {'name':'Alice','city':'Paris' }"
      ],
      "metadata": {
        "id": "jY346djg8pTe"
      },
      "execution_count": null,
      "outputs": []
    },
    {
      "cell_type": "code",
      "source": [
        "d = {'name':'Alice','City':'Paris'}\n",
        "d"
      ],
      "metadata": {
        "id": "m9l1Rf5x8pWR",
        "colab": {
          "base_uri": "https://localhost:8080/"
        },
        "outputId": "39608df9-d2d5-4947-ce3e-c66fdb259773"
      },
      "execution_count": null,
      "outputs": [
        {
          "output_type": "execute_result",
          "data": {
            "text/plain": [
              "{'name': 'Alice', 'City': 'Paris'}"
            ]
          },
          "metadata": {},
          "execution_count": 3
        }
      ]
    },
    {
      "cell_type": "code",
      "source": [
        "d = {'name':'Alice','City':'Paris'}\n",
        "if \"city\" in d:\n",
        "  print(\"The key 'city' exists in the dictionary.\")\n",
        "else:\n",
        "    print(\"The key 'city' does not exist in the dictionary.\")"
      ],
      "metadata": {
        "id": "oyZoIN778pZb",
        "colab": {
          "base_uri": "https://localhost:8080/"
        },
        "outputId": "d84da3cd-afff-40ab-f9ff-938020b2c728"
      },
      "execution_count": null,
      "outputs": [
        {
          "output_type": "stream",
          "name": "stdout",
          "text": [
            "The key 'city' does not exist in the dictionary.\n"
          ]
        }
      ]
    },
    {
      "cell_type": "code",
      "source": [
        "Qus26:Write a code to create a list ,a tuple,and dictionary and print them all"
      ],
      "metadata": {
        "id": "gLQzbAk98pcG"
      },
      "execution_count": null,
      "outputs": []
    },
    {
      "cell_type": "code",
      "source": [
        "d ={'name':['Apple','orange', 'grapes'],'contact':'(123,456)', 'email':'123@gmail.com' }\n",
        "d"
      ],
      "metadata": {
        "id": "g4woGXXd8pff",
        "colab": {
          "base_uri": "https://localhost:8080/"
        },
        "outputId": "9115bf9b-ae4c-4070-ae66-f146d1ce0166"
      },
      "execution_count": null,
      "outputs": [
        {
          "output_type": "execute_result",
          "data": {
            "text/plain": [
              "{'name': ['Apple', 'orange', 'grapes'],\n",
              " 'contact': '(123,456)',\n",
              " 'email': '123@gmail.com'}"
            ]
          },
          "metadata": {},
          "execution_count": 12
        }
      ]
    },
    {
      "cell_type": "code",
      "source": [
        "Qus 27:Write a code to create a list of 5 random numbers between 1 and 100 , sort it in ascending order,and print the result"
      ],
      "metadata": {
        "id": "bIRGbWRvqBr1"
      },
      "execution_count": null,
      "outputs": []
    },
    {
      "cell_type": "code",
      "source": [
        "number_list = [14,25,22,31,21]\n",
        "sorted(number_list)"
      ],
      "metadata": {
        "id": "CAXu1y6LqBu-",
        "colab": {
          "base_uri": "https://localhost:8080/"
        },
        "outputId": "0a1cbf5f-532c-43c4-dafa-8a11a4e671e0"
      },
      "execution_count": null,
      "outputs": [
        {
          "output_type": "execute_result",
          "data": {
            "text/plain": [
              "[14, 21, 22, 25, 31]"
            ]
          },
          "metadata": {},
          "execution_count": 14
        }
      ]
    },
    {
      "cell_type": "code",
      "source": [
        "Qus28: Write a code to create a list with strings and print the elements at the third index"
      ],
      "metadata": {
        "id": "MsFtoDZAqByC"
      },
      "execution_count": null,
      "outputs": []
    },
    {
      "cell_type": "code",
      "source": [
        "a = [\"Rose\",\"Sunflowers \",\"Royal\", \"2\", \"books\"]\n",
        "a"
      ],
      "metadata": {
        "id": "zhDwR2IoqB1d",
        "colab": {
          "base_uri": "https://localhost:8080/"
        },
        "outputId": "e42643b5-2774-431d-8fb5-4eecbd393135"
      },
      "execution_count": null,
      "outputs": [
        {
          "output_type": "execute_result",
          "data": {
            "text/plain": [
              "['Rose', 'Sunflowers ', 'Royal', '2', 'books']"
            ]
          },
          "metadata": {},
          "execution_count": 15
        }
      ]
    },
    {
      "cell_type": "code",
      "source": [
        "a.index(\"2\")"
      ],
      "metadata": {
        "id": "q5hbxb5fqB4D",
        "colab": {
          "base_uri": "https://localhost:8080/"
        },
        "outputId": "4499c62e-ff4c-40c3-cf3d-41873c32f520"
      },
      "execution_count": null,
      "outputs": [
        {
          "output_type": "execute_result",
          "data": {
            "text/plain": [
              "3"
            ]
          },
          "metadata": {},
          "execution_count": 18
        }
      ]
    },
    {
      "cell_type": "code",
      "source": [
        "Qus29: Write a code to combine two dictionaries into one and print the result"
      ],
      "metadata": {
        "id": "qExxAK6VqB7o"
      },
      "execution_count": null,
      "outputs": []
    },
    {
      "cell_type": "code",
      "source": [],
      "metadata": {
        "id": "y7mEjItI7Ai5"
      },
      "execution_count": null,
      "outputs": []
    },
    {
      "cell_type": "code",
      "source": [
        "Qus30: write a code to convert a list of strings into set"
      ],
      "metadata": {
        "id": "zyR3mBNA7Al4"
      },
      "execution_count": null,
      "outputs": []
    },
    {
      "cell_type": "code",
      "source": [
        "a = {\"Data Science\",\"Pw skills \", \"First Batch\"}\n",
        "print(a)"
      ],
      "metadata": {
        "id": "DBjrwnIG7Ao2",
        "colab": {
          "base_uri": "https://localhost:8080/"
        },
        "outputId": "955fd741-e635-4182-b144-3f9641e51cf3"
      },
      "execution_count": null,
      "outputs": [
        {
          "output_type": "stream",
          "name": "stdout",
          "text": [
            "{'Pw skills ', 'Data Science', 'First Batch'}\n"
          ]
        }
      ]
    },
    {
      "cell_type": "code",
      "source": [],
      "metadata": {
        "id": "wCdyn3jlTvI6"
      },
      "execution_count": null,
      "outputs": []
    },
    {
      "cell_type": "markdown",
      "source": [
        "Qus1: What are Data Structures and why they are important.\n",
        "Data Structure are speclized formats for orgnazing, storing,accessing collections of data. They provide efficent ways to manage information based on its characteristics and intended use.\n",
        "think of it as a container that hold your data and determine how you can interact with it. Different containers are better suited for different types of items.\n",
        "They are important because\n",
        "-choosing the right data Structure singnificantly impacts the efficieny and performance of program.\n",
        "-Well-choosen data structure can:\n",
        "-Simplify data manipulation (adding,removing,modifying elements)\n",
        "-OPtimize searching and sorting operatons\n",
        "-Conserve memory usage.\n",
        "\n",
        "\n",
        "Qus2: Explain the difference between mutables and immutable data structure.\n",
        "Ans:  In the Data Structure the lists are mutable and the dictionary, strings are immutable .\n",
        "Mutable that which can changeable after the creation .can modify ,add, or remove elements without creating a new object .\n",
        "for example Lists, dictionaries , and sets are mutable ; you can update directly .\n",
        "If you add or change an item in a list or dictionary, the same object in memory is change.\n",
        "\n",
        " immutable data structures cannot be changed once created . Any attempt to modify them creates a new object in memory , leaving the original unchanged .\n",
        " for example in python\n",
        "\n",
        " - Strings , tuples , and integers are immutable ; modifying them produces a new object with a different memory address .\n",
        "\n",
        "\n",
        " Qus3:What are the main difference between list and tuples in Python.\n",
        " Ans : the main difference between list are\n",
        "      Mutable the list are and they can change , remove , add or other items after creation .Tuples are immutables and can't change after creation , and cannot change the content\n",
        "\n",
        "      List to add to the list appened, to remove using the remove or sort using the [] brackets\n",
        "\n",
        "      Tuples () these are used for them\n",
        "\n",
        "\n",
        "\n",
        "  Qus4: Descride how the dictionary store the data\n",
        "  Ans: Unordered collections: Elements are not sorted in a specific order\n",
        "  - Unique key-value pairs : each key acts as a unique identifier for retrieving an associated value\n",
        "  - Flexible data - Keys and values can be of various data types (string , numbers,list, even other dictionaries )\n",
        "  Operations\n",
        "\n",
        "  - Add : use direct assingment (dictionary_name[key] =  value) or .update () method .\n",
        "  - Access : Retrieve values using their values using their keys (values = dictionary_name[(key)].\n",
        "  - Remove : Use del dictionare_name[key].,pop(key) ,or  .popitem().\n",
        "  - Check membership : Use the in operatoe [key in dictionary_name]\n",
        "\n",
        "\n",
        "\n",
        "Qus5Why might you see set instead of list in python\n",
        "Ans:  set are unordered collections of unique elements . The order doesn't matter , and duplicate entries are not allowed . Sets are useful for checking membership (if an item exists ) or finding the intersection / difference between sets .\n",
        "we can add or remove elements from a sets ,but you cannot access elements by index . set operations like union , intersection,and difference  are efficent . removing duplicates from data , needing fast membership test , performing mathematical set operations .\n",
        "\n",
        "\n",
        "Qus6: what is a string in python  and how it is different from a list.\n",
        "Ans: Charaters arranged in an unchangeable order . Consider writing a sentence , a paragrah ,or piece of material .\n",
        "each charater in the string can be accessed by its index or position . Substring s can be extracted using slicing . String can be joined togerther and altered using a variety of techniques (find,replace, etc).\n",
        "\n",
        "list are changeable and add, remove, sort after creation .\n",
        "\n",
        "\n",
        "Qus7: How do tuples ensure data integrity in python\n",
        "Ans :Tuples ensure data integrity in python through   their immutability - once a tuple is created , its contents cannot be changed added or removed .\n",
        "The data stored in tuple remains constant throughout its lifecycle , making unintended modifications impossible.\n",
        "\n",
        "\n",
        "Qus8: What is a hash table, and how does it relate to dictionaries in python .\n",
        "Ans :A hash table is a data structure that stores key-values pairs and allows for fast data retrieval ,insertion, and deletion . It works by using  a hash value , which determines the index in an underlying array or tables where the value is stored\n",
        "In python , the built -in 'dict '   dictionary tyoe is an implementation of a hash table\n",
        "When you use a dictionary\n",
        "key are hashed with python 's built in 'hash()' function to prodeuce an integer hash value .\n",
        "The hash determines where in the internal arrary the value will be stored\n",
        "When you access, insert, updates , or delete a key value pair, python uses this hash table mechanism to do it quickly and efficiently.\n",
        "\n",
        "\n",
        "Qus9 : Can lists contain different data type\n",
        "Ans: Yes, list contain different data type . You can store integers ,\n",
        "floats,booleans ,objects and even other lists . this is possible because lists in python are designed  to hold reference to object , allowing for mix of types in the same collection.\n",
        "\n",
        "\n",
        "\n",
        "Qus10: Explain why string are immutable in python .\n",
        "Ans : Python strings are immutable - once created , their contents cannot changed . This desings was choosen for several important reasons:\n",
        "Hashing and dictionary keys\n",
        "Bugs and safety\n",
        "performance and optimization\n",
        "\n",
        "\n",
        "Qus11: What advantages do dictionaries offer over lists for certain tasks?\n",
        "Ans: Dictionaries in python offers several distinct advamtages over list fpr specific tasks, making them the perferred choice in many scenarios .\n",
        "\n",
        "Dictionaries provide significantly faster lookups compared to lists when searching by key, with an average complexity of O(1), while list requires O(n) in the worst case . This performance difference becomes paryicularly noticable when working with large datasets.\n",
        "\n",
        "\n",
        "Qus12: Describe a scenerio where sing a tuples would be preferable over alist.\n",
        "Ans: A scenario where using a tuple is preferable over list is when you need to store a collection of data that should not change after its creation , such as constants, configuration values , or fixed records . For example, storing a set geographic coordinates as a tuple ensure data integrity because the values cannot be accidentally modified later codes\n",
        "\n",
        "Immutability : Tuple cannot be altered,so they're ideal for soring data that must remain constant\n",
        "\n",
        "Performance : Tuples are generally faster and use less memory than list ,making them efficient for fixed collection\n",
        "\n",
        "Hashability : Tuples can be used as dictionary keys or sets elements , while lists cannot due to their mutability.\n",
        "\n",
        "\n",
        "Qus13: How does sets handle duplicate values in python\n",
        "Ans: A set in python automatically removes duplicat values . If you try to add an item to a set that is already present , the duplicate is simply ignored and only one instance is kept .\n",
        "\n",
        "Qus14: How does the \"in' keyword wordk differently for lists and dictionaries\n",
        "Ans: The in keyword works differently for list and a dictionary in python\n",
        "\n",
        "For a list ,'in' checks whether a given value exists among the elements of list it give true or false\n",
        "\n",
        "For a dictionary , 'in' checks whether a given key exists among the dictionary's keys, not the values .\n",
        "\n",
        "\n",
        "List 'item in list'  searches for elements/values\n",
        "Dictionary : 'key in dict ' searches for keys only\n",
        "\n",
        "\n",
        "Qus15: can you modify the elements of tuple? explain why or why not.\n",
        "Ans: You cannot modify thw elements of a tuple in python  because tuples are immutable data type . This means once a tuple is created , its contents cannot be changed ,updated, added to, or removed . any attempt to assign a new value to an element by index will raise a 'TypeError'\n",
        "\n",
        "\n",
        "Qus16:What is anested dictionary , and give an example of its use case?\n",
        "Anested dictionary in python is a dictionary that stores one or more dictionaries as its values, creating a hierarchical structure.\n",
        "This allows you to represent complex , structured data intuitively, making it easier to organize and access related information .\n",
        "Typical use case:\n",
        "A common use case foe a nested dictionary is to organize information about multiple entities, where each entity has several attributes . For example, storing a list of students where each student has detailed information(name,age, grade)\n",
        "\n",
        "\n",
        "Qus17: Describe the time complexity of accessing elements in a dictionary.\n",
        "Ans: Accesssing an elements in apython dictionary by its key has an average -case time complexity of O(1) .This efficiency is possible because dictionaries use a hash table internally , allowing for constant - time loopups by rapidly locating  the memory address associated withh a key's hash value\n",
        "\n",
        "\n",
        "Qus18: in  what situations are list s perferred over dictonaries?\n",
        "ans : lists are perfferd over dictionaries in these situations\n",
        "Order Matters\n",
        "Index- based access\n",
        "sequential data\n",
        "ordered operations\n",
        "duplicates allowed\n",
        "efficient memory for dense data\n",
        "\n",
        "\n",
        "Qus19: Why are dictionaries considered unordered , and how does that affect data retriveal\n",
        "Dictionaries are consideredunordered because the items they store do not have a defined sequence , meaning you cannot access items by their position or index .\n",
        "key - valued pairs were stored or retrived the internal storage could change order depending on insertions or deletion\n",
        "\n",
        " THIS affects data retrival in the following ways\n",
        " You cannot use numeric indices , instead,data  must be accessed using unique keys\n",
        "\n",
        " The time and order in which items are retriede can be unpredictable unless the language or libary  guarantees  order\n",
        "\n",
        " Operations that relay on order, suchas slicing or accessing the \"nth\" element, are not possible with unordered dictionaries .\n",
        "\n",
        " it makes searching for a value by key very efficient , but finding a value by position is not supported\n",
        "\n",
        "\n",
        " Qus20: Explain the difference between a list and a dictionary in term s of data retrival\n",
        " Ans The main difference between a list and a dictionary in terms of data  retrieval is how elements are accessed and the speed of that access:\n",
        "\n",
        " Lists are ordered collections where items are accessed by their numeric index . Retriveving an elements by index is very fast but if you want to find if a specific value exists , you must search the entrie list, which is slower\n",
        "\n",
        " Dictionaries are collectons of key-value pairs, where elements are accessed using unique keys . Retrieving a value by key is extremely use hashing to directly map keys to values. Unlike lists, dictionaries are not accessed by integer position but by their key."
      ],
      "metadata": {
        "id": "z28nwExUelid"
      }
    },
    {
      "cell_type": "markdown",
      "source": [],
      "metadata": {
        "id": "qEVUz4wA5qXX"
      }
    },
    {
      "cell_type": "markdown",
      "source": [],
      "metadata": {
        "id": "Vjb2zbw25pTX"
      }
    },
    {
      "cell_type": "markdown",
      "source": [],
      "metadata": {
        "id": "LF_DkYrvegZ0"
      }
    },
    {
      "cell_type": "markdown",
      "source": [],
      "metadata": {
        "id": "c7yT-WdUeYnb"
      }
    },
    {
      "cell_type": "code",
      "source": [],
      "metadata": {
        "id": "Jv8go6x2TvVi"
      },
      "execution_count": null,
      "outputs": []
    },
    {
      "cell_type": "code",
      "source": [],
      "metadata": {
        "id": "doXSsbCBTvYz"
      },
      "execution_count": null,
      "outputs": []
    },
    {
      "cell_type": "code",
      "source": [],
      "metadata": {
        "id": "0kDlqm3_Tvb5"
      },
      "execution_count": null,
      "outputs": []
    },
    {
      "cell_type": "code",
      "source": [],
      "metadata": {
        "id": "vaFkixyNTvfS"
      },
      "execution_count": null,
      "outputs": []
    }
  ]
}